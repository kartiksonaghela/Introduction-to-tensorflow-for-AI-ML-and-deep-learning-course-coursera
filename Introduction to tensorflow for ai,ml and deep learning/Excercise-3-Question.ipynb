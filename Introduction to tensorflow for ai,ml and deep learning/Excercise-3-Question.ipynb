{
 "cells": [
  {
   "cell_type": "markdown",
   "metadata": {
    "colab_type": "text",
    "id": "iQjHqsmTAVLU"
   },
   "source": [
    "## Exercise 3\n",
    "In the videos you looked at how you would improve Fashion MNIST using Convolutions. For your exercise see if you can improve MNIST to 99.8% accuracy or more using only a single convolutional layer and a single MaxPooling 2D. You should stop training once the accuracy goes above this amount. It should happen in less than 20 epochs, so it's ok to hard code the number of epochs for training, but your training must end once it hits the above metric. If it doesn't, then you'll need to redesign your layers.\n",
    "\n",
    "I've started the code for you -- you need to finish it!\n",
    "\n",
    "When 99.8% accuracy has been hit, you should print out the string \"Reached 99.8% accuracy so cancelling training!\"\n"
   ]
  },
  {
   "cell_type": "code",
   "execution_count": 1,
   "metadata": {},
   "outputs": [],
   "source": [
    "import tensorflow as tf\n",
    "from os import path, getcwd, chdir\n",
    "\n",
    "# DO NOT CHANGE THE LINE BELOW. If you are developing in a local\n",
    "# environment, then grab mnist.npz from the Coursera Jupyter Notebook\n",
    "# and place it inside a local folder and edit the path to that location\n",
    "path = f\"{getcwd()}/../tmp2/mnist.npz\""
   ]
  },
  {
   "cell_type": "code",
   "execution_count": 2,
   "metadata": {},
   "outputs": [],
   "source": [
    "config = tf.ConfigProto()\n",
    "config.gpu_options.allow_growth = True\n",
    "sess = tf.Session(config=config)"
   ]
  },
  {
   "cell_type": "code",
   "execution_count": 3,
   "metadata": {},
   "outputs": [],
   "source": [
    "import tensorflow as tf\n",
    "\n",
    "class myCallback(tf.keras.callbacks.Callback):\n",
    "\n",
    "    def on_epoch_end(self, epoch, logs={}):\n",
    "\n",
    "        if(logs.get('acc')>0.998):\n",
    "\n",
    "            print(\"\\n----------------- Reached 99.8% accuracy so cancelling training!-----------------\")\n",
    "\n",
    "            self.model.stop_training = True\n",
    "\n",
    "def train_mnist_conv():\n",
    "\n",
    "    callbacks = myCallback()\n",
    "\n",
    "    mnist = tf.keras.datasets.mnist\n",
    "\n",
    "    (training_images, training_labels), (test_images, test_labels) = mnist.load_data()\n",
    "\n",
    "    training_images=training_images.reshape(60000, 28, 28, 1)\n",
    "\n",
    "    training_images=training_images / 255.0\n",
    "\n",
    "    test_images = test_images.reshape(10000, 28, 28, 1)\n",
    "\n",
    "    test_images=test_images/255.0\n",
    "\n",
    "    model = tf.keras.models.Sequential([\n",
    "\n",
    "    tf.keras.layers.Conv2D(32, (3,3), activation='relu', input_shape=(28, 28, 1)),\n",
    "\n",
    "    tf.keras.layers.MaxPooling2D(2, 2),\n",
    "\n",
    "    tf.keras.layers.Flatten(),\n",
    "\n",
    "    tf.keras.layers.Dense(128, activation='relu'),\n",
    "\n",
    "    tf.keras.layers.Dense(10, activation='softmax')\n",
    "\n",
    "    ])\n",
    "\n",
    "    model.compile(optimizer='adam', loss='sparse_categorical_crossentropy', metrics=['accuracy'])\n",
    "\n",
    "    history=model.fit(training_images, training_labels, epochs=10, callbacks=[callbacks])\n",
    "\n",
    "    return history.epoch, history.history['acc'][-1]\n",
    "\n",
    "    test_loss, test_acc = model.evaluate(test_images, test_labels)\n",
    "\n",
    "    print (test_acc)\n",
    "\n",
    "    model.summary()\n",
    "\n",
    "\n",
    "\n"
   ]
  },
  {
   "cell_type": "code",
   "execution_count": 4,
   "metadata": {},
   "outputs": [
    {
     "name": "stdout",
     "output_type": "stream",
     "text": [
      "Downloading data from https://storage.googleapis.com/tensorflow/tf-keras-datasets/mnist.npz\n",
      "11493376/11490434 [==============================] - 0s 0us/step\n"
     ]
    },
    {
     "name": "stderr",
     "output_type": "stream",
     "text": [
      "WARNING: Logging before flag parsing goes to stderr.\n",
      "W1205 15:20:24.437017 139780102915904 deprecation.py:506] From /usr/local/lib/python3.6/dist-packages/tensorflow/python/ops/init_ops.py:1251: calling VarianceScaling.__init__ (from tensorflow.python.ops.init_ops) with dtype is deprecated and will be removed in a future version.\n",
      "Instructions for updating:\n",
      "Call initializer instance with the dtype argument instead of passing it to the constructor\n"
     ]
    },
    {
     "name": "stdout",
     "output_type": "stream",
     "text": [
      "Epoch 1/10\n",
      "60000/60000 [==============================] - 20s 327us/sample - loss: 0.1454 - acc: 0.9566\n",
      "Epoch 2/10\n",
      "60000/60000 [==============================] - 16s 266us/sample - loss: 0.0513 - acc: 0.9845\n",
      "Epoch 3/10\n",
      "60000/60000 [==============================] - 16s 265us/sample - loss: 0.0310 - acc: 0.9904\n",
      "Epoch 4/10\n",
      "60000/60000 [==============================] - 16s 267us/sample - loss: 0.0207 - acc: 0.9931\n",
      "Epoch 5/10\n",
      "60000/60000 [==============================] - 16s 265us/sample - loss: 0.0143 - acc: 0.9953\n",
      "Epoch 6/10\n",
      "60000/60000 [==============================] - 16s 265us/sample - loss: 0.0101 - acc: 0.9966\n",
      "Epoch 7/10\n",
      "60000/60000 [==============================] - 16s 267us/sample - loss: 0.0075 - acc: 0.9975\n",
      "Epoch 8/10\n",
      "60000/60000 [==============================] - 16s 266us/sample - loss: 0.0073 - acc: 0.9975\n",
      "Epoch 9/10\n",
      "59712/60000 [============================>.] - ETA: 0s - loss: 0.0040 - acc: 0.9987\n",
      "----------------- Reached 99.8% accuracy so cancelling training!-----------------\n",
      "60000/60000 [==============================] - 16s 267us/sample - loss: 0.0040 - acc: 0.9987\n"
     ]
    },
    {
     "data": {
      "text/plain": [
       "([0, 1, 2, 3, 4, 5, 6, 7, 8], 0.99871665)"
      ]
     },
     "execution_count": 4,
     "metadata": {},
     "output_type": "execute_result"
    }
   ],
   "source": [
    "train_mnist_conv()"
   ]
  },
  {
   "cell_type": "code",
   "execution_count": 5,
   "metadata": {},
   "outputs": [],
   "source": [
    "# Now click the 'Submit Assignment' button above.\n",
    "# Once that is complete, please run the following two cells to save your work and close the notebook"
   ]
  },
  {
   "cell_type": "code",
   "execution_count": null,
   "metadata": {},
   "outputs": [],
   "source": [
    "%%javascript\n",
    "<!-- Save the notebook -->\n",
    "IPython.notebook.save_checkpoint();"
   ]
  },
  {
   "cell_type": "code",
   "execution_count": null,
   "metadata": {},
   "outputs": [],
   "source": [
    "%%javascript\n",
    "<!-- Shutdown and close the notebook -->\n",
    "window.onbeforeunload = null\n",
    "window.close();\n",
    "IPython.notebook.session.delete();"
   ]
  }
 ],
 "metadata": {
  "coursera": {
   "course_slug": "introduction-tensorflow",
   "graded_item_id": "ml06H",
   "launcher_item_id": "hQF8A"
  },
  "kernelspec": {
   "display_name": "Python 3",
   "language": "python",
   "name": "python3"
  },
  "language_info": {
   "codemirror_mode": {
    "name": "ipython",
    "version": 3
   },
   "file_extension": ".py",
   "mimetype": "text/x-python",
   "name": "python",
   "nbconvert_exporter": "python",
   "pygments_lexer": "ipython3",
   "version": "3.6.8"
  }
 },
 "nbformat": 4,
 "nbformat_minor": 1
}
