{
 "cells": [
  {
   "cell_type": "markdown",
   "metadata": {
    "colab_type": "text",
    "id": "UncprnB0ymAE"
   },
   "source": [
    "Below is code with a link to a happy or sad dataset which contains 80 images, 40 happy and 40 sad. \n",
    "Create a convolutional neural network that trains to 100% accuracy on these images,  which cancels training upon hitting training accuracy of >.999\n",
    "\n",
    "Hint -- it will work best with 3 convolutional layers."
   ]
  },
  {
   "cell_type": "code",
   "execution_count": 3,
   "metadata": {},
   "outputs": [],
   "source": [
    "import tensorflow as tf\n",
    "import os\n",
    "import zipfile\n",
    "from os import path, getcwd, chdir\n",
    "\n",
    "# DO NOT CHANGE THE LINE BELOW. If you are developing in a local\n",
    "# environment, then grab happy-or-sad.zip from the Coursera Jupyter Notebook\n",
    "# and place it inside a local folder and edit the path to that location\n",
    "path = f\"{getcwd()}/../tmp2/happy-or-sad.zip\"\n",
    "\n",
    "zip_ref = zipfile.ZipFile(path, 'r')\n",
    "zip_ref.extractall(\"/tmp/h-or-s\")\n",
    "zip_ref.close()"
   ]
  },
  {
   "cell_type": "code",
   "execution_count": 6,
   "metadata": {},
   "outputs": [],
   "source": [
    "# GRADED FUNCTION: train_happy_sad_model\n",
    "def train_happy_sad_model():\n",
    "    DESIRED_ACCURACY = 0.999\n",
    "    class myCallback(tf.keras.callbacks.Callback):\n",
    "        def epoch_in_end(self,epoch,logs={}):\n",
    "            if(logs.get('acc') > DESIRED_ACCURACY):\n",
    "                print(\"\\nReached 99.9% accuracy so cancelling training!\")\n",
    "                self.model.stop_training=True\n",
    "        \n",
    "    \n",
    "    # This Code Block should Define and Compile the Model. Please assume the images are 150 X 150 in your implementation.\n",
    "    model = tf.keras.models.Sequential([\n",
    "        # Your Code Here\n",
    "        tf.keras.layers.Conv2D(16,(3,3),activation=tf.nn.relu,input_shape=(150,150,3)),\n",
    "        tf.keras.layers.MaxPooling2D(2,2),\n",
    "        tf.keras.layers.Conv2D(32,(3,3),activation=tf.nn.relu),\n",
    "        tf.keras.layers.MaxPooling2D(2,2),\n",
    "        tf.keras.layers.Conv2D(64,(3,3),activation=tf.nn.relu),\n",
    "        tf.keras.layers.MaxPooling2D(2,2),\n",
    "        tf.keras.layers.Flatten(),\n",
    "        tf.keras.layers.Dense(512,activation=tf.nn.relu),\n",
    "        tf.keras.layers.Dense(1,activation='sigmoid')\n",
    "    ])\n",
    "    \n",
    "    \n",
    "\n",
    "    from tensorflow.keras.optimizers import RMSprop\n",
    "\n",
    "    model.compile(\n",
    "                  loss='binary_crossentropy',\n",
    "                  optimizer=RMSprop(lr = 0.001),\n",
    "                  metrics=['acc']\n",
    "        \n",
    "    )\n",
    "    \n",
    "   \n",
    "        \n",
    "    # This code block should create an instance of an ImageDataGenerator called train_datagen \n",
    "    # And a train_generator by calling train_datagen.flow_from_directory\n",
    "\n",
    "    from tensorflow.keras.preprocessing.image import ImageDataGenerator\n",
    "\n",
    "    train_datagen = ImageDataGenerator(rescale=1./255)\n",
    "                    \n",
    "    # Please use a target_size of 150 X 150.\n",
    "    train_generator = train_datagen.flow_from_directory(\n",
    "        # Your Code Here\n",
    "    \"/tmp/h-or-s\",\n",
    "    target_size=(150,150),\n",
    "    batch_size=4,\n",
    "    class_mode='binary'\n",
    "    )\n",
    "    \n",
    "    \n",
    "    callbacks=myCallback()\n",
    "    \n",
    "    history = model.fit_generator(\n",
    "        # Your Code Here\n",
    "        train_generator,\n",
    "        steps_per_epoch=10,\n",
    "        epochs=22,\n",
    "        verbose=1,\n",
    "        callbacks=[callbacks])\n",
    "     # model fitting\n",
    "    return history.history['acc'][-1]"
   ]
  },
  {
   "cell_type": "code",
   "execution_count": 7,
   "metadata": {},
   "outputs": [
    {
     "name": "stdout",
     "output_type": "stream",
     "text": [
      "Found 80 images belonging to 2 classes.\n",
      "Epoch 1/22\n",
      "10/10 [==============================] - 2s 197ms/step - loss: 1.5375 - acc: 0.7250\n",
      "Epoch 2/22\n",
      "10/10 [==============================] - 0s 20ms/step - loss: 0.6900 - acc: 0.6250\n",
      "Epoch 3/22\n",
      "10/10 [==============================] - 0s 31ms/step - loss: 0.5595 - acc: 0.7750\n",
      "Epoch 4/22\n",
      "10/10 [==============================] - 0s 30ms/step - loss: 0.2354 - acc: 0.9000\n",
      "Epoch 5/22\n",
      "10/10 [==============================] - 0s 31ms/step - loss: 0.2393 - acc: 0.9250\n",
      "Epoch 6/22\n",
      "10/10 [==============================] - 0s 31ms/step - loss: 0.2051 - acc: 0.9250\n",
      "Epoch 7/22\n",
      "10/10 [==============================] - 0s 39ms/step - loss: 0.2391 - acc: 0.9250\n",
      "Epoch 8/22\n",
      "10/10 [==============================] - 0s 30ms/step - loss: 0.0972 - acc: 0.9750\n",
      "Epoch 9/22\n",
      "10/10 [==============================] - 0s 39ms/step - loss: 0.1223 - acc: 0.9500\n",
      "Epoch 10/22\n",
      "10/10 [==============================] - 0s 30ms/step - loss: 0.1602 - acc: 0.9250\n",
      "Epoch 11/22\n",
      "10/10 [==============================] - 0s 39ms/step - loss: 0.1096 - acc: 0.9250\n",
      "Epoch 12/22\n",
      "10/10 [==============================] - 0s 31ms/step - loss: 0.0541 - acc: 1.0000\n",
      "Epoch 13/22\n",
      "10/10 [==============================] - 0s 39ms/step - loss: 0.0015 - acc: 1.0000\n",
      "Epoch 14/22\n",
      "10/10 [==============================] - 0s 31ms/step - loss: 0.1856 - acc: 0.9250\n",
      "Epoch 15/22\n",
      "10/10 [==============================] - 0s 39ms/step - loss: 0.0665 - acc: 1.0000\n",
      "Epoch 16/22\n",
      "10/10 [==============================] - 0s 30ms/step - loss: 0.0069 - acc: 1.0000\n",
      "Epoch 17/22\n",
      "10/10 [==============================] - 0s 39ms/step - loss: 0.0051 - acc: 1.0000\n",
      "Epoch 18/22\n",
      "10/10 [==============================] - 0s 30ms/step - loss: 0.0011 - acc: 1.0000\n",
      "Epoch 19/22\n",
      "10/10 [==============================] - 0s 39ms/step - loss: 6.3344e-04 - acc: 1.0000\n",
      "Epoch 20/22\n",
      "10/10 [==============================] - 0s 30ms/step - loss: 6.7024e-04 - acc: 1.0000\n",
      "Epoch 21/22\n",
      "10/10 [==============================] - 0s 38ms/step - loss: 0.0106 - acc: 1.0000\n",
      "Epoch 22/22\n",
      "10/10 [==============================] - 0s 22ms/step - loss: 4.2535e-04 - acc: 1.0000\n"
     ]
    },
    {
     "data": {
      "text/plain": [
       "1.0"
      ]
     },
     "execution_count": 7,
     "metadata": {},
     "output_type": "execute_result"
    }
   ],
   "source": [
    "# The Expected output: \"Reached 99.9% accuracy so cancelling training!\"\"\n",
    "train_happy_sad_model()"
   ]
  },
  {
   "cell_type": "code",
   "execution_count": 4,
   "metadata": {},
   "outputs": [],
   "source": [
    "# Now click the 'Submit Assignment' button above.\n",
    "# Once that is complete, please run the following two cells to save your work and close the notebook"
   ]
  },
  {
   "cell_type": "code",
   "execution_count": null,
   "metadata": {},
   "outputs": [],
   "source": [
    "%%javascript\n",
    "<!-- Save the notebook -->\n",
    "IPython.notebook.save_checkpoint();"
   ]
  },
  {
   "cell_type": "code",
   "execution_count": null,
   "metadata": {},
   "outputs": [],
   "source": [
    "%%javascript\n",
    "<!-- Shutdown and close the notebook -->\n",
    "window.onbeforeunload = null\n",
    "window.close();\n",
    "IPython.notebook.session.delete();"
   ]
  }
 ],
 "metadata": {
  "coursera": {
   "course_slug": "introduction-tensorflow",
   "graded_item_id": "1kAlw",
   "launcher_item_id": "PNLYD"
  },
  "kernelspec": {
   "display_name": "Python 3",
   "language": "python",
   "name": "python3"
  },
  "language_info": {
   "codemirror_mode": {
    "name": "ipython",
    "version": 3
   },
   "file_extension": ".py",
   "mimetype": "text/x-python",
   "name": "python",
   "nbconvert_exporter": "python",
   "pygments_lexer": "ipython3",
   "version": "3.6.8"
  }
 },
 "nbformat": 4,
 "nbformat_minor": 1
}
